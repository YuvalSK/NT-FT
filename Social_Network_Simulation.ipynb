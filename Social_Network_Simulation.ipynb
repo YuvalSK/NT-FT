{
 "cells": [
  {
   "cell_type": "code",
   "execution_count": 1,
   "metadata": {},
   "outputs": [
    {
     "name": "stdout",
     "output_type": "stream",
     "text": [
      "{0: 'Love', 1: 'Movies', 2: 'Fantasy', 3: 'Laughing', 4: 'Life', 5: 'Poetry', 6: 'T.V.', 7: 'Internet', 8: 'Drinking', 9: 'Sleep'}\n"
     ]
    },
    {
     "data": {
      "image/png": "[encoded data removed]",
      "text/plain": [
       "<Figure size 432x288 with 1 Axes>"
      ]
     },
     "metadata": {},
     "output_type": "display_data"
    }
   ],
   "source": [
    "# -*- coding: utf-8 -*-\n",
    "\"\"\"\n",
    "Simulation of Network Topology and Free Text Analysis\n",
    "Author: Yuval S. Katz\n",
    "\"\"\"\n",
    "import networkx as nx\n",
    "from scipy import stats \n",
    "import matplotlib.pyplot as plt\n",
    "import numpy as np\n",
    "import seaborn as sns\n",
    "%matplotlib inline\n",
    "\n",
    "dois = ['Love','Movies', 'Fantasy','Laughing','Life','Poetry','T.V.','Internet','Drinking','Sleep']\n",
    "#generate a random directed graph\n",
    "DG = nx.gn_graph(len(dois),seed=25)\n",
    "label_dict = {}\n",
    "for i,doi in enumerate(dois):\n",
    "    DG.node[i]['name']= doi\n",
    "    label_dict[i] = doi\n",
    "nx.draw_circular(DG,labels = label_dict, with_labels=True, node_color='bisque')\n",
    "plt.savefig('Results/simulated_DOIs_directed_network.png')\n",
    "print(label_dict)\n"
   ]
  },
  {
   "cell_type": "code",
   "execution_count": 2,
   "metadata": {},
   "outputs": [],
   "source": [
    "#calculate topological features of the vertices\n",
    "degrees_out = []\n",
    "degrees_in = []\n",
    "pageranks = []\n",
    "closnesses =[]\n",
    "\n",
    "#iterate of all the dois\n",
    "for i,doi in enumerate(dois):\n",
    "    degrees_out.append(DG.out_degree([i])[i])\n",
    "    degrees_in.append(DG.in_degree([i])[i])\n",
    "    pageranks.append(nx.pagerank(DG)[i])\n",
    "    closnesses.append(nx.closeness_centrality(DG)[i])\n"
   ]
  },
  {
   "cell_type": "code",
   "execution_count": 3,
   "metadata": {},
   "outputs": [],
   "source": [
    "#doi tags representation  \n",
    "vertex=0 # DOI 'Love' for example\n",
    "edges = list(DG.edges(data=True))\n",
    "tag_to_vertex = np.zeros((len(dois)))\n",
    "\n",
    "for j,edge in enumerate(edges):\n",
    "    src, trg , w = edge\n",
    "    if trg == vertex:\n",
    "        tag_to_vertex[src]=1\n"
   ]
  },
  {
   "cell_type": "code",
   "execution_count": 6,
   "metadata": {},
   "outputs": [
    {
     "name": "stdout",
     "output_type": "stream",
     "text": [
      "Doi:Love\n",
      "\n",
      "tags-->[0. 1. 1. 0. 0. 1. 0. 0. 1. 0.]\n",
      "\n",
      "NAV-->deg_out,deg_in,pagerank,closeness\n",
      "[[0.         1.         1.         1.         1.         1.\n",
      "  1.         1.         1.         1.        ]\n",
      " [4.         0.         1.         2.         1.         0.\n",
      "  0.         0.         1.         0.        ]\n",
      " [0.32146709 0.04232475 0.16545356 0.1448551  0.07830024 0.04232475\n",
      "  0.04232475 0.04232475 0.07830024 0.04232475]\n",
      " [0.5        0.         0.22222222 0.25       0.11111111 0.\n",
      "  0.         0.         0.11111111 0.        ]]\n",
      "\n",
      "spermans rho:[-0.56493268 -0.55901699 -0.55901699  0.27216553]\n"
     ]
    }
   ],
   "source": [
    "#calculate spearman's correlation between DOI&Features\n",
    "y = tag_to_vertex\n",
    "x = np.array([degrees_out,degrees_in,pageranks,closnesses])\n",
    "print(f'Doi:{label_dict[vertex]}\\n\\ntags-->{y}\\n\\nNAV-->deg_out,deg_in,pagerank,closeness\\n{x}') \n",
    "\n",
    "corr, _ = stats.spearmanr(x.T,y)\n",
    "\n",
    "print(f'\\nspermans rho:{corr[1:,0]}')"
   ]
  },
  {
   "cell_type": "code",
   "execution_count": null,
   "metadata": {},
   "outputs": [],
   "source": []
  }
 ],
 "metadata": {
  "kernelspec": {
   "display_name": "Python 3",
   "language": "python",
   "name": "python3"
  },
  "language_info": {
   "codemirror_mode": {
    "name": "ipython",
    "version": 3
   },
   "file_extension": ".py",
   "mimetype": "text/x-python",
   "name": "python",
   "nbconvert_exporter": "python",
   "pygments_lexer": "ipython3",
   "version": "3.6.8"
  },
  "varInspector": {
   "cols": {
    "lenName": 16,
    "lenType": 16,
    "lenVar": 40
   },
   "kernels_config": {
    "python": {
     "delete_cmd_postfix": "",
     "delete_cmd_prefix": "del ",
     "library": "var_list.py",
     "varRefreshCmd": "print(var_dic_list())"
    },
    "r": {
     "delete_cmd_postfix": ") ",
     "delete_cmd_prefix": "rm(",
     "library": "var_list.r",
     "varRefreshCmd": "cat(var_dic_list()) "
    }
   },
   "types_to_exclude": [
    "module",
    "function",
    "builtin_function_or_method",
    "instance",
    "_Feature"
   ],
   "window_display": false
  }
 },
 "nbformat": 4,
 "nbformat_minor": 2
}
