{
 "cells": [
  {
   "cell_type": "code",
   "execution_count": 1,
   "metadata": {},
   "outputs": [],
   "source": [
    "# -*- coding: utf-8 -*-\n",
    "\"\"\"\n",
    "Created on Sat May 30 2020\n",
    "@author: Yuval Samoilov-Katz\n",
    "\"\"\"\n",
    "# Cluster Analysis of FT correlation with NT\n",
    "import numpy as np\n",
    "import matplotlib.pyplot as plt\n",
    "import pandas as pd\n",
    "import scipy.cluster.hierarchy as shc\n",
    "from sklearn.cluster import AgglomerativeClustering, KMeans\n",
    "        \n",
    "snaps = [1,2,10,19]\n",
    "clusters = 2\n",
    "for snap in snaps:\n",
    "    \n",
    "    dataset = pd.read_csv('Data/snap_{}_dois_100.csv'.format(snap))\n",
    "    X = dataset.iloc[:, 1:20].values\n",
    "    DOIs = dataset['DOIs'].values\n",
    "    base = np.arange(0,len(DOIs),1)\n",
    "    \n",
    "    fig, axes = plt.subplots(figsize=(16,12), nrows=1, ncols=1)\n",
    "    dend1 = shc.dendrogram(shc.linkage(X, method='ward'),labels=DOIs , orientation='right',ax=axes)\n",
    "    axes.title.set_text(f'Hierarchical Clustering of Free Text and Network Topology Correlation\\nSnap:{snap}')\n",
    "    plt.savefig(f'Results/hei_{snap}')\n",
    "    \n",
    "    cluster = AgglomerativeClustering(n_clusters=clusters, affinity='euclidean',linkage='ward')\n",
    "    cluster.fit_predict(X)\n",
    "    kmeans = KMeans(n_clusters=clusters)\n",
    "    kmeans.fit(X)\n",
    "    fig, ax = plt.subplots(figsize=(14,10), nrows=3, ncols=1)    \n",
    "    for i,feature in enumerate(dataset.columns[:-1]):\n",
    "        ax[0].scatter(base, X[:,i], label=f'{feature}')\n",
    "        ax[1].scatter(base, X[:,i], c=cluster.labels_, cmap='rainbow')\n",
    "        ax[2].scatter(base, X[:,i], c=kmeans.labels_, cmap='rainbow')\n",
    "    \n",
    "    ax[0].title.set_text('Correlation of Free Text with Network Topology')\n",
    "    ax[1].title.set_text('Hierarchical Clustering')\n",
    "    ax[2].title.set_text('KMeans Clustering')\n",
    "    \n",
    "    plt.tight_layout()\n",
    "    plt.savefig(f'Results/clustering_{snap}')\n",
    "\n",
    "#asso_dois = pd.read_excel('doi_to_big5.xlsx')"
   ]
  },
  {
   "cell_type": "code",
   "execution_count": null,
   "metadata": {},
   "outputs": [],
   "source": []
  }
 ],
 "metadata": {
  "kernelspec": {
   "display_name": "Python 3",
   "language": "python",
   "name": "python3"
  },
  "language_info": {
   "codemirror_mode": {
    "name": "ipython",
    "version": 3
   },
   "file_extension": ".py",
   "mimetype": "text/x-python",
   "name": "python",
   "nbconvert_exporter": "python",
   "pygments_lexer": "ipython3",
   "version": "3.6.8"
  }
 },
 "nbformat": 4,
 "nbformat_minor": 2
}
