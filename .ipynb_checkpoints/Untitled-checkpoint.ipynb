{
 "cells": [
  {
   "cell_type": "code",
   "execution_count": null,
   "metadata": {},
   "outputs": [],
   "source": [
    "# PCA Analysis\n",
    "from sklearn.decomposition import PCA\n",
    "from sklearn import preprocessing\n",
    "\n",
    "doi2per = pd.read_csv('Data/doi2big5.csv')\n",
    "doi2gen = pd.read_csv('Data/doi2gender.csv')\n",
    "\n",
    "for snap in snaps:\n",
    "    plt.clf()\n",
    "    dataset = pd.read_csv('Data/snap_{}_dois_100.csv'.format(snap),index_col=0)\n",
    "\n",
    "    fig, ax = plt.subplots(figsize=(14,10), nrows=2, ncols=1)    \n",
    "\n",
    "    ## PCA analysis for explaining the main clusters of DOIs\n",
    "    norm_data = preprocessing.scale(dataset)\n",
    "    pca = PCA()\n",
    "    pca.fit(norm_data)\n",
    "    pca_data = pca.transform(norm_data)\n",
    "\n",
    "    ## exploring number of PC affect on variance\n",
    "    exp_var = np.round(pca.explained_variance_ratio_ *100, decimals=1)\n",
    "    labels = ['PC' + str(n) for n in range(1,len(exp_var)+1)]\n",
    "    ax[0].bar(x=range(1,len(exp_var)+1),height=exp_var, tick_label=labels,color='b')\n",
    "    ax[0].set_ylabel('percentaeg of explained Variance')\n",
    "    ax[0].set_xlabel('PC')\n",
    "    ax[0].set_title(f'PCA Analysis snap:{snap}\\nScree Plot')        \n",
    "    \n",
    "    #main PC\n",
    "    pca_df = pd.DataFrame(pca_data, columns=labels,index=dataset.index)\n",
    "    ax[1].scatter(pca_df.PC1,pca_df.PC2)\n",
    "    ax[1].set_title(f'PCA Analysis')\n",
    "    ax[1].set_xlabel(f'PC1 - {exp_var[0]}%')\n",
    "    ax[1].set_ylabel(f'PC2 - {exp_var[1]}%')\n",
    "    \n",
    "    #print(pca_df.index)\n",
    "    for doi in pca_df.index:\n",
    "        ax[1].annotate(doi,(pca_df.PC1.loc[doi], pca_df.PC2.loc[doi]))\n",
    "        \n",
    "    plt.savefig(f'Results/DOIs_PCA_{snap}')"
   ]
  }
 ],
 "metadata": {
  "kernelspec": {
   "display_name": "Python 3",
   "language": "python",
   "name": "python3"
  },
  "language_info": {
   "codemirror_mode": {
    "name": "ipython",
    "version": 3
   },
   "file_extension": ".py",
   "mimetype": "text/x-python",
   "name": "python",
   "nbconvert_exporter": "python",
   "pygments_lexer": "ipython3",
   "version": "3.6.8"
  },
  "varInspector": {
   "cols": {
    "lenName": 16,
    "lenType": 16,
    "lenVar": 40
   },
   "kernels_config": {
    "python": {
     "delete_cmd_postfix": "",
     "delete_cmd_prefix": "del ",
     "library": "var_list.py",
     "varRefreshCmd": "print(var_dic_list())"
    },
    "r": {
     "delete_cmd_postfix": ") ",
     "delete_cmd_prefix": "rm(",
     "library": "var_list.r",
     "varRefreshCmd": "cat(var_dic_list()) "
    }
   },
   "types_to_exclude": [
    "module",
    "function",
    "builtin_function_or_method",
    "instance",
    "_Feature"
   ],
   "window_display": false
  }
 },
 "nbformat": 4,
 "nbformat_minor": 2
}
